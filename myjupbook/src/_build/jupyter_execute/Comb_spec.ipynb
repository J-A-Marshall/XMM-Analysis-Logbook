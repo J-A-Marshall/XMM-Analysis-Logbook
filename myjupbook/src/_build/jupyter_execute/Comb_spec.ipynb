{
 "cells": [
  {
   "cell_type": "markdown",
   "metadata": {},
   "source": [
    "# Combining all Spectra"
   ]
  },
  {
   "cell_type": "markdown",
   "metadata": {},
   "source": [
    "## Revolution 301 "
   ]
  },
  {
   "cell_type": "markdown",
   "metadata": {},
   "source": [
    "### PN"
   ]
  },
  {
   "cell_type": "code",
   "execution_count": null,
   "metadata": {},
   "outputs": [],
   "source": [
    "evselect table=EPIC_filt_time.fits expression='(FLAG==0) && (PATTERN<=4) && ((X,Y) IN circle(26229.662,27962.992,565.3))' withspectrumset=yes spectrumset=301_pn_source_spectrum.ds spectralbinsize=5 specchannelmin=0 specchannelmax=20479 energycolumn=PI\n"
   ]
  },
  {
   "cell_type": "code",
   "execution_count": null,
   "metadata": {},
   "outputs": [],
   "source": [
    "backscale spectrumset=301_pn_source_spectrum.ds badpixlocation=EPIC_filt_time.fits"
   ]
  },
  {
   "cell_type": "code",
   "execution_count": null,
   "metadata": {},
   "outputs": [],
   "source": [
    "evselect table=EPIC_filt_time.fits expression='(FLAG==0) && (PATTERN<=4) && ((X,Y) IN circle(29365.842,25855.344,712.9))' withspectrumset=yes spectrumset=301_pn_bkg_spectrum.ds spectralbinsize=5 specchannelmin=0 specchannelmax=20479 energycolumn=PI\n"
   ]
  },
  {
   "cell_type": "code",
   "execution_count": null,
   "metadata": {},
   "outputs": [],
   "source": [
    "backscale spectrumset=301_pn_bkg_spectrum.ds badpixlocation=EPIC_filt_time.fits"
   ]
  },
  {
   "cell_type": "code",
   "execution_count": null,
   "metadata": {},
   "outputs": [],
   "source": [
    "rmfgen spectrumset=301_pn_source_spectrum.ds rmfset=301_pn_response.rmf withenergybins=yes energymin=0.1 energymax=15 nenergybins=1490"
   ]
  },
  {
   "cell_type": "code",
   "execution_count": null,
   "metadata": {},
   "outputs": [],
   "source": [
    "arfgen spectrumset=301_pn_source_spectrum.ds arfset=301_pn_arf.arf withrmfset=yes rmfset=301_pn_response.rmf "
   ]
  },
  {
   "cell_type": "markdown",
   "metadata": {},
   "source": [
    "### MOS1"
   ]
  },
  {
   "cell_type": "code",
   "execution_count": null,
   "metadata": {},
   "outputs": [],
   "source": [
    "evselect table=mos1_clean.fits expression='((X,Y) IN circle(26229.662,27962.992,565.3))' withspectrumset=yes spectrumset=301_mos1_source_spectrum.ds spectralbinsize=5 specchannelmin=0 specchannelmax=11999 energycolumn=PI\n"
   ]
  },
  {
   "cell_type": "code",
   "execution_count": null,
   "metadata": {},
   "outputs": [],
   "source": [
    "backscale spectrumset=301_pn_source_spectrum.ds badpixlocation=EPIC_filt_time.fits"
   ]
  },
  {
   "cell_type": "markdown",
   "metadata": {},
   "source": []
  }
 ],
 "metadata": {
  "language_info": {
   "name": "python"
  }
 },
 "nbformat": 4,
 "nbformat_minor": 2
}